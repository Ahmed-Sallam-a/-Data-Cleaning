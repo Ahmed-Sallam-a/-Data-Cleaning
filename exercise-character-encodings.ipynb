{
 "cells": [
  {
   "cell_type": "markdown",
   "id": "baf336d4",
   "metadata": {
    "papermill": {
     "duration": 0.004419,
     "end_time": "2023-06-27T02:55:05.361022",
     "exception": false,
     "start_time": "2023-06-27T02:55:05.356603",
     "status": "completed"
    },
    "tags": []
   },
   "source": [
    "**This notebook is an exercise in the [Data Cleaning](https://www.kaggle.com/learn/data-cleaning) course.  You can reference the tutorial at [this link](https://www.kaggle.com/alexisbcook/character-encodings).**\n",
    "\n",
    "---\n"
   ]
  },
  {
   "cell_type": "markdown",
   "id": "adf813ff",
   "metadata": {
    "papermill": {
     "duration": 0.003517,
     "end_time": "2023-06-27T02:55:05.368280",
     "exception": false,
     "start_time": "2023-06-27T02:55:05.364763",
     "status": "completed"
    },
    "tags": []
   },
   "source": [
    "In this exercise, you'll apply what you learned in the **Character encodings** tutorial.\n",
    "\n",
    "# Setup\n",
    "\n",
    "The questions below will give you feedback on your work. Run the following cell to set up the feedback system."
   ]
  },
  {
   "cell_type": "code",
   "execution_count": 1,
   "id": "37c11c06",
   "metadata": {
    "execution": {
     "iopub.execute_input": "2023-06-27T02:55:05.377533Z",
     "iopub.status.busy": "2023-06-27T02:55:05.376943Z",
     "iopub.status.idle": "2023-06-27T02:55:05.458522Z",
     "shell.execute_reply": "2023-06-27T02:55:05.457420Z"
    },
    "papermill": {
     "duration": 0.089627,
     "end_time": "2023-06-27T02:55:05.461518",
     "exception": false,
     "start_time": "2023-06-27T02:55:05.371891",
     "status": "completed"
    },
    "tags": []
   },
   "outputs": [
    {
     "name": "stdout",
     "output_type": "stream",
     "text": [
      "Setup Complete\n"
     ]
    }
   ],
   "source": [
    "from learntools.core import binder\n",
    "binder.bind(globals())\n",
    "from learntools.data_cleaning.ex4 import *\n",
    "print(\"Setup Complete\")"
   ]
  },
  {
   "cell_type": "markdown",
   "id": "65f1d6c5",
   "metadata": {
    "papermill": {
     "duration": 0.003928,
     "end_time": "2023-06-27T02:55:05.469464",
     "exception": false,
     "start_time": "2023-06-27T02:55:05.465536",
     "status": "completed"
    },
    "tags": []
   },
   "source": [
    "# Get our environment set up\n",
    "\n",
    "The first thing we'll need to do is load in the libraries we'll be using."
   ]
  },
  {
   "cell_type": "code",
   "execution_count": 2,
   "id": "bc6441f2",
   "metadata": {
    "execution": {
     "iopub.execute_input": "2023-06-27T02:55:05.479026Z",
     "iopub.status.busy": "2023-06-27T02:55:05.478671Z",
     "iopub.status.idle": "2023-06-27T02:55:05.482507Z",
     "shell.execute_reply": "2023-06-27T02:55:05.481954Z"
    },
    "papermill": {
     "duration": 0.010869,
     "end_time": "2023-06-27T02:55:05.484418",
     "exception": false,
     "start_time": "2023-06-27T02:55:05.473549",
     "status": "completed"
    },
    "tags": []
   },
   "outputs": [],
   "source": [
    "# modules we'll use\n",
    "import pandas as pd\n",
    "import numpy as np\n",
    "\n",
    "# helpful character encoding module\n",
    "import charset_normalizer\n",
    "\n",
    "# set seed for reproducibility\n",
    "np.random.seed(0)"
   ]
  },
  {
   "cell_type": "markdown",
   "id": "cea16736",
   "metadata": {
    "papermill": {
     "duration": 0.005065,
     "end_time": "2023-06-27T02:55:05.493784",
     "exception": false,
     "start_time": "2023-06-27T02:55:05.488719",
     "status": "completed"
    },
    "tags": []
   },
   "source": [
    "# 1) What are encodings?\n",
    "\n",
    "You're working with a dataset composed of bytes.  Run the code cell below to print a sample entry."
   ]
  },
  {
   "cell_type": "code",
   "execution_count": 3,
   "id": "264486a0",
   "metadata": {
    "execution": {
     "iopub.execute_input": "2023-06-27T02:55:05.503259Z",
     "iopub.status.busy": "2023-06-27T02:55:05.502961Z",
     "iopub.status.idle": "2023-06-27T02:55:05.508471Z",
     "shell.execute_reply": "2023-06-27T02:55:05.506977Z"
    },
    "papermill": {
     "duration": 0.01271,
     "end_time": "2023-06-27T02:55:05.510444",
     "exception": false,
     "start_time": "2023-06-27T02:55:05.497734",
     "status": "completed"
    },
    "tags": []
   },
   "outputs": [
    {
     "name": "stdout",
     "output_type": "stream",
     "text": [
      "b'\\xa7A\\xa6n'\n",
      "data type: <class 'bytes'>\n"
     ]
    }
   ],
   "source": [
    "sample_entry = b'\\xa7A\\xa6n'\n",
    "print(sample_entry)\n",
    "print('data type:', type(sample_entry))"
   ]
  },
  {
   "cell_type": "markdown",
   "id": "c8e42f06",
   "metadata": {
    "papermill": {
     "duration": 0.003886,
     "end_time": "2023-06-27T02:55:05.518731",
     "exception": false,
     "start_time": "2023-06-27T02:55:05.514845",
     "status": "completed"
    },
    "tags": []
   },
   "source": [
    "You notice that it doesn't use the standard UTF-8 encoding. \n",
    "\n",
    "Use the next code cell to create a variable `new_entry` that changes the encoding from `\"big5-tw\"` to `\"utf-8\"`.  `new_entry` should have the bytes datatype."
   ]
  },
  {
   "cell_type": "code",
   "execution_count": 4,
   "id": "9e347038",
   "metadata": {
    "execution": {
     "iopub.execute_input": "2023-06-27T02:55:05.528434Z",
     "iopub.status.busy": "2023-06-27T02:55:05.528045Z",
     "iopub.status.idle": "2023-06-27T02:55:05.537340Z",
     "shell.execute_reply": "2023-06-27T02:55:05.536308Z"
    },
    "papermill": {
     "duration": 0.016558,
     "end_time": "2023-06-27T02:55:05.539335",
     "exception": false,
     "start_time": "2023-06-27T02:55:05.522777",
     "status": "completed"
    },
    "tags": []
   },
   "outputs": [
    {
     "data": {
      "application/javascript": [
       "parent.postMessage({\"jupyterEvent\": \"custom.exercise_interaction\", \"data\": {\"outcomeType\": 1, \"valueTowardsCompletion\": 0.3333333333333333, \"interactionType\": 1, \"questionType\": 1, \"questionId\": \"1_EncodingsIntro\", \"learnToolsVersion\": \"0.3.4\", \"failureMessage\": \"\", \"exceptionClass\": \"\", \"trace\": \"\"}}, \"*\")"
      ],
      "text/plain": [
       "<IPython.core.display.Javascript object>"
      ]
     },
     "metadata": {},
     "output_type": "display_data"
    },
    {
     "data": {
      "text/markdown": [
       "<span style=\"color:#33cc33\">Correct</span>"
      ],
      "text/plain": [
       "Correct"
      ]
     },
     "metadata": {},
     "output_type": "display_data"
    }
   ],
   "source": [
    "sample_entry =sample_entry.decode(\"big5-tw\")\n",
    "new_entry = sample_entry.encode(\"utf-8\",errors = \"replace\")\n",
    "\n",
    "# Check your answer\n",
    "q1.check()"
   ]
  },
  {
   "cell_type": "code",
   "execution_count": 5,
   "id": "f1656962",
   "metadata": {
    "execution": {
     "iopub.execute_input": "2023-06-27T02:55:05.550072Z",
     "iopub.status.busy": "2023-06-27T02:55:05.549476Z",
     "iopub.status.idle": "2023-06-27T02:55:05.552582Z",
     "shell.execute_reply": "2023-06-27T02:55:05.552024Z"
    },
    "papermill": {
     "duration": 0.010983,
     "end_time": "2023-06-27T02:55:05.554812",
     "exception": false,
     "start_time": "2023-06-27T02:55:05.543829",
     "status": "completed"
    },
    "tags": []
   },
   "outputs": [],
   "source": [
    "# Lines below will give you a hint or solution code\n",
    "#q1.hint()\n",
    "#q1.solution()"
   ]
  },
  {
   "cell_type": "markdown",
   "id": "d05057b7",
   "metadata": {
    "papermill": {
     "duration": 0.003953,
     "end_time": "2023-06-27T02:55:05.563327",
     "exception": false,
     "start_time": "2023-06-27T02:55:05.559374",
     "status": "completed"
    },
    "tags": []
   },
   "source": [
    "with open(\"../input/kickstarter-projects/ks-projects-201801.csv\", 'rb') as rawdata:# 2) Reading in files with encoding problems\n",
    "\n",
    "Use the code cell below to read in this file at path `\"../input/fatal-police-shootings-in-the-us/PoliceKillingsUS.csv\"`.  \n",
    "\n",
    "Figure out what the correct encoding should be and read in the file to a DataFrame `police_killings`."
   ]
  },
  {
   "cell_type": "code",
   "execution_count": 6,
   "id": "0be63c69",
   "metadata": {
    "execution": {
     "iopub.execute_input": "2023-06-27T02:55:05.573462Z",
     "iopub.status.busy": "2023-06-27T02:55:05.572810Z",
     "iopub.status.idle": "2023-06-27T02:55:05.603543Z",
     "shell.execute_reply": "2023-06-27T02:55:05.601766Z"
    },
    "papermill": {
     "duration": 0.038185,
     "end_time": "2023-06-27T02:55:05.605564",
     "exception": false,
     "start_time": "2023-06-27T02:55:05.567379",
     "status": "completed"
    },
    "tags": []
   },
   "outputs": [
    {
     "name": "stdout",
     "output_type": "stream",
     "text": [
      "{'encoding': 'ascii', 'language': 'English', 'confidence': 1.0}\n"
     ]
    }
   ],
   "source": [
    "with open(\"../input/fatal-police-shootings-in-the-us/PoliceKillingsUS.csv\", 'rb') as rawdata:\n",
    "    raw= charset_normalizer.detect(rawdata.read(10000))\n",
    "print(raw)"
   ]
  },
  {
   "cell_type": "code",
   "execution_count": 7,
   "id": "35e93c33",
   "metadata": {
    "execution": {
     "iopub.execute_input": "2023-06-27T02:55:05.615534Z",
     "iopub.status.busy": "2023-06-27T02:55:05.615253Z",
     "iopub.status.idle": "2023-06-27T02:55:05.636054Z",
     "shell.execute_reply": "2023-06-27T02:55:05.635153Z"
    },
    "papermill": {
     "duration": 0.027858,
     "end_time": "2023-06-27T02:55:05.637887",
     "exception": false,
     "start_time": "2023-06-27T02:55:05.610029",
     "status": "completed"
    },
    "tags": []
   },
   "outputs": [
    {
     "data": {
      "application/javascript": [
       "parent.postMessage({\"jupyterEvent\": \"custom.exercise_interaction\", \"data\": {\"outcomeType\": 1, \"valueTowardsCompletion\": 0.3333333333333333, \"interactionType\": 1, \"questionType\": 1, \"questionId\": \"2_ReadIn\", \"learnToolsVersion\": \"0.3.4\", \"failureMessage\": \"\", \"exceptionClass\": \"\", \"trace\": \"\"}}, \"*\")"
      ],
      "text/plain": [
       "<IPython.core.display.Javascript object>"
      ]
     },
     "metadata": {},
     "output_type": "display_data"
    },
    {
     "data": {
      "text/markdown": [
       "<span style=\"color:#33cc33\">Correct</span>"
      ],
      "text/plain": [
       "Correct"
      ]
     },
     "metadata": {},
     "output_type": "display_data"
    }
   ],
   "source": [
    "# TODO: Load in the DataFrame correctly.\n",
    "police_killings =  pd.read_csv(\"../input/fatal-police-shootings-in-the-us/PoliceKillingsUS.csv\", encoding='windows-1252')\n",
    "\n",
    "# Check your answer\n",
    "q2.check()"
   ]
  },
  {
   "cell_type": "markdown",
   "id": "c3bf66b0",
   "metadata": {
    "papermill": {
     "duration": 0.004132,
     "end_time": "2023-06-27T02:55:05.646606",
     "exception": false,
     "start_time": "2023-06-27T02:55:05.642474",
     "status": "completed"
    },
    "tags": []
   },
   "source": [
    "Feel free to use any additional code cells for supplemental work.  To get credit for finishing this question, you'll need to run `q2.check()` and get a result of **Correct**."
   ]
  },
  {
   "cell_type": "code",
   "execution_count": 8,
   "id": "09dd8e1c",
   "metadata": {
    "execution": {
     "iopub.execute_input": "2023-06-27T02:55:05.656765Z",
     "iopub.status.busy": "2023-06-27T02:55:05.656412Z",
     "iopub.status.idle": "2023-06-27T02:55:05.660437Z",
     "shell.execute_reply": "2023-06-27T02:55:05.659642Z"
    },
    "papermill": {
     "duration": 0.011059,
     "end_time": "2023-06-27T02:55:05.662013",
     "exception": false,
     "start_time": "2023-06-27T02:55:05.650954",
     "status": "completed"
    },
    "tags": []
   },
   "outputs": [],
   "source": [
    "# (Optional) Use this code cell for any additional work."
   ]
  },
  {
   "cell_type": "code",
   "execution_count": 9,
   "id": "6aeaa99b",
   "metadata": {
    "execution": {
     "iopub.execute_input": "2023-06-27T02:55:05.673077Z",
     "iopub.status.busy": "2023-06-27T02:55:05.672786Z",
     "iopub.status.idle": "2023-06-27T02:55:05.676061Z",
     "shell.execute_reply": "2023-06-27T02:55:05.675214Z"
    },
    "papermill": {
     "duration": 0.011833,
     "end_time": "2023-06-27T02:55:05.678207",
     "exception": false,
     "start_time": "2023-06-27T02:55:05.666374",
     "status": "completed"
    },
    "tags": []
   },
   "outputs": [],
   "source": [
    "# Lines below will give you a hint or solution code\n",
    "#q2.hint()\n",
    "#q2.solution()"
   ]
  },
  {
   "cell_type": "markdown",
   "id": "547eedcb",
   "metadata": {
    "papermill": {
     "duration": 0.00422,
     "end_time": "2023-06-27T02:55:05.687309",
     "exception": false,
     "start_time": "2023-06-27T02:55:05.683089",
     "status": "completed"
    },
    "tags": []
   },
   "source": [
    "# 3) Saving your files with UTF-8 encoding\n",
    "\n",
    "Save a version of the police killings dataset to CSV with UTF-8 encoding.  Your answer will be marked correct after saving this file.  \n",
    "\n",
    "Note: When using the `to_csv()` method, supply only the name of the file (e.g., `\"my_file.csv\"`).  This saves the file at the filepath `\"/kaggle/working/my_file.csv\"`."
   ]
  },
  {
   "cell_type": "code",
   "execution_count": 10,
   "id": "1a7f737f",
   "metadata": {
    "execution": {
     "iopub.execute_input": "2023-06-27T02:55:05.698229Z",
     "iopub.status.busy": "2023-06-27T02:55:05.697922Z",
     "iopub.status.idle": "2023-06-27T02:55:05.729789Z",
     "shell.execute_reply": "2023-06-27T02:55:05.729176Z"
    },
    "papermill": {
     "duration": 0.039251,
     "end_time": "2023-06-27T02:55:05.731316",
     "exception": false,
     "start_time": "2023-06-27T02:55:05.692065",
     "status": "completed"
    },
    "tags": []
   },
   "outputs": [
    {
     "data": {
      "application/javascript": [
       "parent.postMessage({\"jupyterEvent\": \"custom.exercise_interaction\", \"data\": {\"outcomeType\": 1, \"valueTowardsCompletion\": 0.3333333333333333, \"interactionType\": 1, \"questionType\": 2, \"questionId\": \"3_SaveCSV\", \"learnToolsVersion\": \"0.3.4\", \"failureMessage\": \"\", \"exceptionClass\": \"\", \"trace\": \"\"}}, \"*\")"
      ],
      "text/plain": [
       "<IPython.core.display.Javascript object>"
      ]
     },
     "metadata": {},
     "output_type": "display_data"
    },
    {
     "data": {
      "text/markdown": [
       "<span style=\"color:#33cc33\">Correct</span>"
      ],
      "text/plain": [
       "Correct"
      ]
     },
     "metadata": {},
     "output_type": "display_data"
    }
   ],
   "source": [
    "\n",
    "police_killings.to_csv(\"my_file.csv\")\n",
    "# Check your answer\n",
    "q3.check()"
   ]
  },
  {
   "cell_type": "code",
   "execution_count": 11,
   "id": "844a46d5",
   "metadata": {
    "execution": {
     "iopub.execute_input": "2023-06-27T02:55:05.743011Z",
     "iopub.status.busy": "2023-06-27T02:55:05.742714Z",
     "iopub.status.idle": "2023-06-27T02:55:05.746342Z",
     "shell.execute_reply": "2023-06-27T02:55:05.745233Z"
    },
    "papermill": {
     "duration": 0.011015,
     "end_time": "2023-06-27T02:55:05.747842",
     "exception": false,
     "start_time": "2023-06-27T02:55:05.736827",
     "status": "completed"
    },
    "tags": []
   },
   "outputs": [],
   "source": [
    "# Lines below will give you a hint or solution code\n",
    "#q3.hint()\n",
    "#q3.solution()"
   ]
  },
  {
   "cell_type": "markdown",
   "id": "b7b4762b",
   "metadata": {
    "papermill": {
     "duration": 0.004492,
     "end_time": "2023-06-27T02:55:05.757283",
     "exception": false,
     "start_time": "2023-06-27T02:55:05.752791",
     "status": "completed"
    },
    "tags": []
   },
   "source": [
    "# (Optional) More practice\n",
    "\n",
    "Check out [this dataset of files in different character encodings](https://www.kaggle.com/rtatman/character-encoding-examples). Can you read in all the files with their original encodings and them save them out as UTF-8 files?\n",
    "\n",
    "If you have a file that's in UTF-8 but has just a couple of weird-looking characters in it, you can try out the [ftfy module](https://ftfy.readthedocs.io/en/latest/#) and see if it helps. \n",
    "\n",
    "# Keep going\n",
    "\n",
    "In the final lesson, learn how to [**clean up inconsistent text entries**](https://www.kaggle.com/alexisbcook/inconsistent-data-entry) in your dataset."
   ]
  },
  {
   "cell_type": "markdown",
   "id": "e45c0ef0",
   "metadata": {
    "papermill": {
     "duration": 0.004444,
     "end_time": "2023-06-27T02:55:05.766278",
     "exception": false,
     "start_time": "2023-06-27T02:55:05.761834",
     "status": "completed"
    },
    "tags": []
   },
   "source": [
    "---\n",
    "\n",
    "\n",
    "\n",
    "\n",
    "*Have questions or comments? Visit the [course discussion forum](https://www.kaggle.com/learn/data-cleaning/discussion) to chat with other learners.*"
   ]
  }
 ],
 "metadata": {
  "kernelspec": {
   "display_name": "Python 3",
   "language": "python",
   "name": "python3"
  },
  "language_info": {
   "codemirror_mode": {
    "name": "ipython",
    "version": 3
   },
   "file_extension": ".py",
   "mimetype": "text/x-python",
   "name": "python",
   "nbconvert_exporter": "python",
   "pygments_lexer": "ipython3",
   "version": "3.10.10"
  },
  "papermill": {
   "default_parameters": {},
   "duration": 9.767523,
   "end_time": "2023-06-27T02:55:06.489798",
   "environment_variables": {},
   "exception": null,
   "input_path": "__notebook__.ipynb",
   "output_path": "__notebook__.ipynb",
   "parameters": {},
   "start_time": "2023-06-27T02:54:56.722275",
   "version": "2.4.0"
  }
 },
 "nbformat": 4,
 "nbformat_minor": 5
}
